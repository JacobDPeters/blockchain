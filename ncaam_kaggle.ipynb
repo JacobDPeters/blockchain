{
 "cells": [
  {
   "cell_type": "markdown",
   "metadata": {},
   "source": [
    "# Import Data"
   ]
  },
  {
   "cell_type": "code",
   "execution_count": 103,
   "metadata": {},
   "outputs": [],
   "source": [
    "import pandas as pd\n",
    "import numpy as np\n",
    "import os\n",
    "from sklearn.preprocessing import Imputer\n",
    "from sklearn import preprocessing\n",
    "\n",
    "# To split the dataset into train and test datasets\n",
    "from sklearn.cross_validation import train_test_split\n",
    "\n",
    "# To model the Gaussian Naive Bayes classifier\n",
    "from sklearn.naive_bayes import GaussianNB\n",
    "\n",
    "# To calculate the accuracy score of the model\n",
    "from sklearn.metrics import accuracy_score\n",
    "import re"
   ]
  },
  {
   "cell_type": "code",
   "execution_count": 104,
   "metadata": {},
   "outputs": [],
   "source": [
    "players_2010 = pd.read_csv('Players_2010.csv')"
   ]
  },
  {
   "cell_type": "code",
   "execution_count": 105,
   "metadata": {},
   "outputs": [],
   "source": [
    "#Import events\n",
    "events_2010 = pd.read_csv('Events_2010.csv')\n",
    "events_2011 = pd.read_csv('Events_2011.csv')\n",
    "events_2012 = pd.read_csv('Events_2012.csv')\n",
    "events_2013 = pd.read_csv('Events_2013.csv')\n",
    "events_2014 = pd.read_csv('Events_2014.csv')\n",
    "events_2015 = pd.read_csv('Events_2015.csv')\n",
    "events_2016 = pd.read_csv('Events_2016.csv')\n",
    "events_2017 = pd.read_csv('Events_2017.csv')\n",
    "\n",
    "#Import players\n",
    "players_2010 = pd.read_csv('Players_2010.csv')\n",
    "players_2011 = pd.read_csv('Players_2011.csv')\n",
    "players_2012 = pd.read_csv('Players_2012.csv')\n",
    "players_2013 = pd.read_csv('Players_2013.csv')\n",
    "players_2014 = pd.read_csv('Players_2014.csv')\n",
    "players_2015 = pd.read_csv('Players_2015.csv')\n",
    "players_2016 = pd.read_csv('Players_2016.csv')\n",
    "players_2017 = pd.read_csv('Players_2017.csv')\n",
    "\n",
    "#Import Massey\n",
    "massey = pd.read_csv('MasseyOrdinals.csv')\n",
    "\n",
    "#Import Other files\n",
    "cities = pd.read_csv('Cities.csv')\n",
    "conferences = pd.read_csv('Conferences.csv')\n",
    "conf_tourney = pd.read_csv('ConferenceTourneyGames.csv')\n",
    "game_cities = pd.read_csv('GameCities.csv')\n",
    "tourney_results = pd.read_csv('NCAATourneyCompactResults.csv')\n",
    "detailed_tourney_results = pd.read_csv('NCAATourneyDetailedResults.csv')\n",
    "tourney_all = pd.read_csv('NCAATourneySeedRoundSlots.csv')\n",
    "tourney_seeds = pd.read_csv('NCAATourneySeeds.csv')\n",
    "tourney_slots = pd.read_csv('NCAATourneySlots.csv')\n",
    "reg_season = pd.read_csv('RegularSeasonCompactResults.csv')\n",
    "detailed_reg_season = pd.read_csv('RegularSeasonDetailedResults.csv')\n",
    "seasons = pd.read_csv('Seasons.csv')\n",
    "second_tourney = pd.read_csv('SecondaryTourneyCompactResults.csv')\n",
    "detailed_second_tourney = pd.read_csv('SecondaryTourneyTeams.csv')\n",
    "team_coaches = pd.read_csv('TeamCoaches.csv')\n",
    "team_conferences = pd.read_csv('TeamConferences.csv')\n",
    "teams = pd.read_csv('teams.csv')"
   ]
  },
  {
   "cell_type": "code",
   "execution_count": 106,
   "metadata": {},
   "outputs": [
    {
     "data": {
      "text/html": [
       "<div>\n",
       "<table border=\"1\" class=\"dataframe\">\n",
       "  <thead>\n",
       "    <tr style=\"text-align: right;\">\n",
       "      <th></th>\n",
       "      <th>Season</th>\n",
       "      <th>DayNum</th>\n",
       "      <th>WTeamID</th>\n",
       "      <th>WScore</th>\n",
       "      <th>LTeamID</th>\n",
       "      <th>LScore</th>\n",
       "      <th>WLoc</th>\n",
       "      <th>NumOT</th>\n",
       "    </tr>\n",
       "  </thead>\n",
       "  <tbody>\n",
       "    <tr>\n",
       "      <th>0</th>\n",
       "      <td>1985</td>\n",
       "      <td>20</td>\n",
       "      <td>1228</td>\n",
       "      <td>81</td>\n",
       "      <td>1328</td>\n",
       "      <td>64</td>\n",
       "      <td>N</td>\n",
       "      <td>0</td>\n",
       "    </tr>\n",
       "    <tr>\n",
       "      <th>1</th>\n",
       "      <td>1985</td>\n",
       "      <td>25</td>\n",
       "      <td>1106</td>\n",
       "      <td>77</td>\n",
       "      <td>1354</td>\n",
       "      <td>70</td>\n",
       "      <td>H</td>\n",
       "      <td>0</td>\n",
       "    </tr>\n",
       "    <tr>\n",
       "      <th>2</th>\n",
       "      <td>1985</td>\n",
       "      <td>25</td>\n",
       "      <td>1112</td>\n",
       "      <td>63</td>\n",
       "      <td>1223</td>\n",
       "      <td>56</td>\n",
       "      <td>H</td>\n",
       "      <td>0</td>\n",
       "    </tr>\n",
       "    <tr>\n",
       "      <th>3</th>\n",
       "      <td>1985</td>\n",
       "      <td>25</td>\n",
       "      <td>1165</td>\n",
       "      <td>70</td>\n",
       "      <td>1432</td>\n",
       "      <td>54</td>\n",
       "      <td>H</td>\n",
       "      <td>0</td>\n",
       "    </tr>\n",
       "    <tr>\n",
       "      <th>4</th>\n",
       "      <td>1985</td>\n",
       "      <td>25</td>\n",
       "      <td>1192</td>\n",
       "      <td>86</td>\n",
       "      <td>1447</td>\n",
       "      <td>74</td>\n",
       "      <td>H</td>\n",
       "      <td>0</td>\n",
       "    </tr>\n",
       "  </tbody>\n",
       "</table>\n",
       "</div>"
      ],
      "text/plain": [
       "   Season  DayNum  WTeamID  WScore  LTeamID  LScore WLoc  NumOT\n",
       "0    1985      20     1228      81     1328      64    N      0\n",
       "1    1985      25     1106      77     1354      70    H      0\n",
       "2    1985      25     1112      63     1223      56    H      0\n",
       "3    1985      25     1165      70     1432      54    H      0\n",
       "4    1985      25     1192      86     1447      74    H      0"
      ]
     },
     "execution_count": 106,
     "metadata": {},
     "output_type": "execute_result"
    }
   ],
   "source": [
    "reg_season.head()"
   ]
  },
  {
   "cell_type": "markdown",
   "metadata": {},
   "source": [
    "# Preliminary Analysis"
   ]
  },
  {
   "cell_type": "markdown",
   "metadata": {},
   "source": [
    "### Modify schedule table"
   ]
  },
  {
   "cell_type": "code",
   "execution_count": 107,
   "metadata": {},
   "outputs": [
    {
     "data": {
      "text/html": [
       "<div>\n",
       "<table border=\"1\" class=\"dataframe\">\n",
       "  <thead>\n",
       "    <tr style=\"text-align: right;\">\n",
       "      <th></th>\n",
       "      <th>Season</th>\n",
       "      <th>DayNum</th>\n",
       "      <th>WTeamID</th>\n",
       "      <th>WScore</th>\n",
       "      <th>LTeamID</th>\n",
       "      <th>LScore</th>\n",
       "      <th>WLoc</th>\n",
       "      <th>NumOT</th>\n",
       "      <th>Diff</th>\n",
       "      <th>True_Outcome</th>\n",
       "    </tr>\n",
       "  </thead>\n",
       "  <tbody>\n",
       "    <tr>\n",
       "      <th>145291</th>\n",
       "      <td>2017</td>\n",
       "      <td>11</td>\n",
       "      <td>1112</td>\n",
       "      <td>65</td>\n",
       "      <td>1277</td>\n",
       "      <td>63</td>\n",
       "      <td>N</td>\n",
       "      <td>0</td>\n",
       "      <td>2</td>\n",
       "      <td>N</td>\n",
       "    </tr>\n",
       "    <tr>\n",
       "      <th>145311</th>\n",
       "      <td>2017</td>\n",
       "      <td>11</td>\n",
       "      <td>1182</td>\n",
       "      <td>65</td>\n",
       "      <td>1259</td>\n",
       "      <td>60</td>\n",
       "      <td>H</td>\n",
       "      <td>0</td>\n",
       "      <td>5</td>\n",
       "      <td>N</td>\n",
       "    </tr>\n",
       "    <tr>\n",
       "      <th>145314</th>\n",
       "      <td>2017</td>\n",
       "      <td>11</td>\n",
       "      <td>1188</td>\n",
       "      <td>69</td>\n",
       "      <td>1218</td>\n",
       "      <td>68</td>\n",
       "      <td>A</td>\n",
       "      <td>0</td>\n",
       "      <td>1</td>\n",
       "      <td>N</td>\n",
       "    </tr>\n",
       "    <tr>\n",
       "      <th>145318</th>\n",
       "      <td>2017</td>\n",
       "      <td>11</td>\n",
       "      <td>1201</td>\n",
       "      <td>69</td>\n",
       "      <td>1427</td>\n",
       "      <td>66</td>\n",
       "      <td>H</td>\n",
       "      <td>0</td>\n",
       "      <td>3</td>\n",
       "      <td>N</td>\n",
       "    </tr>\n",
       "    <tr>\n",
       "      <th>145319</th>\n",
       "      <td>2017</td>\n",
       "      <td>11</td>\n",
       "      <td>1203</td>\n",
       "      <td>75</td>\n",
       "      <td>1271</td>\n",
       "      <td>71</td>\n",
       "      <td>H</td>\n",
       "      <td>0</td>\n",
       "      <td>4</td>\n",
       "      <td>N</td>\n",
       "    </tr>\n",
       "  </tbody>\n",
       "</table>\n",
       "</div>"
      ],
      "text/plain": [
       "        Season  DayNum  WTeamID  WScore  LTeamID  LScore WLoc  NumOT  Diff  \\\n",
       "145291    2017      11     1112      65     1277      63    N      0     2   \n",
       "145311    2017      11     1182      65     1259      60    H      0     5   \n",
       "145314    2017      11     1188      69     1218      68    A      0     1   \n",
       "145318    2017      11     1201      69     1427      66    H      0     3   \n",
       "145319    2017      11     1203      75     1271      71    H      0     4   \n",
       "\n",
       "       True_Outcome  \n",
       "145291            N  \n",
       "145311            N  \n",
       "145314            N  \n",
       "145318            N  \n",
       "145319            N  "
      ]
     },
     "execution_count": 107,
     "metadata": {},
     "output_type": "execute_result"
    }
   ],
   "source": [
    "#Add the differential\n",
    "reg_season['Diff'] = reg_season['WScore'] - reg_season['LScore'] \n",
    "reg_season['True_Outcome'] = np.where(reg_season['Diff'] > 5, 'Y','N')\n",
    "\n",
    "#Example query\n",
    "reg_season[(reg_season['Season'] == 2017) & (reg_season['True_Outcome'] == 'N')].head()\n"
   ]
  },
  {
   "cell_type": "code",
   "execution_count": 108,
   "metadata": {},
   "outputs": [
    {
     "data": {
      "text/html": [
       "<div>\n",
       "<table border=\"1\" class=\"dataframe\">\n",
       "  <thead>\n",
       "    <tr style=\"text-align: right;\">\n",
       "      <th></th>\n",
       "      <th>Season</th>\n",
       "      <th>RankingDayNum</th>\n",
       "      <th>SystemName</th>\n",
       "      <th>TeamID</th>\n",
       "      <th>OrdinalRank</th>\n",
       "    </tr>\n",
       "  </thead>\n",
       "  <tbody>\n",
       "    <tr>\n",
       "      <th>0</th>\n",
       "      <td>2003</td>\n",
       "      <td>35</td>\n",
       "      <td>SEL</td>\n",
       "      <td>1102</td>\n",
       "      <td>159</td>\n",
       "    </tr>\n",
       "    <tr>\n",
       "      <th>1</th>\n",
       "      <td>2003</td>\n",
       "      <td>35</td>\n",
       "      <td>SEL</td>\n",
       "      <td>1103</td>\n",
       "      <td>229</td>\n",
       "    </tr>\n",
       "    <tr>\n",
       "      <th>2</th>\n",
       "      <td>2003</td>\n",
       "      <td>35</td>\n",
       "      <td>SEL</td>\n",
       "      <td>1104</td>\n",
       "      <td>12</td>\n",
       "    </tr>\n",
       "    <tr>\n",
       "      <th>3</th>\n",
       "      <td>2003</td>\n",
       "      <td>35</td>\n",
       "      <td>SEL</td>\n",
       "      <td>1105</td>\n",
       "      <td>314</td>\n",
       "    </tr>\n",
       "    <tr>\n",
       "      <th>4</th>\n",
       "      <td>2003</td>\n",
       "      <td>35</td>\n",
       "      <td>SEL</td>\n",
       "      <td>1106</td>\n",
       "      <td>260</td>\n",
       "    </tr>\n",
       "  </tbody>\n",
       "</table>\n",
       "</div>"
      ],
      "text/plain": [
       "   Season  RankingDayNum SystemName  TeamID  OrdinalRank\n",
       "0    2003             35        SEL    1102          159\n",
       "1    2003             35        SEL    1103          229\n",
       "2    2003             35        SEL    1104           12\n",
       "3    2003             35        SEL    1105          314\n",
       "4    2003             35        SEL    1106          260"
      ]
     },
     "execution_count": 108,
     "metadata": {},
     "output_type": "execute_result"
    }
   ],
   "source": [
    "massey.head(5)"
   ]
  },
  {
   "cell_type": "markdown",
   "metadata": {},
   "source": [
    "### Ratings"
   ]
  },
  {
   "cell_type": "code",
   "execution_count": 109,
   "metadata": {},
   "outputs": [
    {
     "data": {
      "text/plain": [
       "array(['7OT', 'ACU', 'ADE', 'AP', 'ARG', 'AUS', 'BBT', 'BCM', 'BD', 'BIH',\n",
       "       'BKM', 'BLS', 'BNM', 'BOB', 'BOW', 'BP5', 'BPI', 'BRZ', 'BUR',\n",
       "       'BWE', 'CJB', 'CMV', 'CNG', 'COL', 'CPA', 'CPR', 'CRO', 'CRW',\n",
       "       'CTL', 'D1A', 'DAV', 'DC', 'DC2', 'DCI', 'DDB', 'DES', 'DII',\n",
       "       'DOK', 'DOL', 'DUN', 'DWH', 'EBB', 'EBP', 'ECK', 'ENT', 'ERD',\n",
       "       'ESR', 'FAS', 'FMG', 'FSH', 'GC', 'GRN', 'GRS', 'HAS', 'HAT',\n",
       "       'HER', 'HKB', 'HKS', 'HOL', 'HRN', 'IMS', 'INP', 'ISR', 'JCI',\n",
       "       'JEN', 'JNG', 'JON', 'JRT', 'KBM', 'KEL', 'KLK', 'KMV', 'KOS',\n",
       "       'KPI', 'KPK', 'KRA', 'LMC', 'LOG', 'LYD', 'LYN', 'MAS', 'MB',\n",
       "       'MCL', 'MGY', 'MIC', 'MKV', 'MOR', 'MPI', 'MSX', 'MUZ', 'MvG',\n",
       "       'NOL', 'NOR', 'OCT', 'OMY', 'PEQ', 'PGH', 'PH', 'PIG', 'PKL',\n",
       "       'PMC', 'POM', 'PPR', 'PRR', 'PTS', 'RAG', 'REI', 'REN', 'REW',\n",
       "       'RIS', 'RM', 'ROG', 'ROH', 'RPI', 'RSE', 'RSL', 'RT', 'RTB', 'RTH',\n",
       "       'RTP', 'RTR', 'SAG', 'SAP', 'SAU', 'SCR', 'SE', 'SEL', 'SFX',\n",
       "       'SGR', 'SIM', 'SMN', 'SMS', 'SP', 'SPR', 'SPW', 'STF', 'STH',\n",
       "       'STR', 'STS', 'TBD', 'TMR', 'TOL', 'TPR', 'TRK', 'TRP', 'TRX',\n",
       "       'TSR', 'TW', 'UCS', 'UPS', 'USA', 'WIL', 'WLK', 'WMR', 'WOB',\n",
       "       'WOL', 'WTE', 'YAG', 'ZAM'], dtype=object)"
      ]
     },
     "execution_count": 109,
     "metadata": {},
     "output_type": "execute_result"
    }
   ],
   "source": [
    "#What are the unique rankings? -- Looks like every team gets rated 1-351\n",
    "massey['SystemName'].sort_values().unique()"
   ]
  },
  {
   "cell_type": "code",
   "execution_count": 110,
   "metadata": {},
   "outputs": [
    {
     "data": {
      "text/html": [
       "<div>\n",
       "<table border=\"1\" class=\"dataframe\">\n",
       "  <thead>\n",
       "    <tr style=\"text-align: right;\">\n",
       "      <th></th>\n",
       "      <th>Season</th>\n",
       "      <th>RankingDayNum</th>\n",
       "      <th>SystemName</th>\n",
       "      <th>TeamID</th>\n",
       "      <th>OrdinalRank</th>\n",
       "    </tr>\n",
       "  </thead>\n",
       "  <tbody>\n",
       "    <tr>\n",
       "      <th>3190803</th>\n",
       "      <td>2017</td>\n",
       "      <td>133</td>\n",
       "      <td>POM</td>\n",
       "      <td>1211</td>\n",
       "      <td>1</td>\n",
       "    </tr>\n",
       "    <tr>\n",
       "      <th>3191024</th>\n",
       "      <td>2017</td>\n",
       "      <td>133</td>\n",
       "      <td>POM</td>\n",
       "      <td>1437</td>\n",
       "      <td>2</td>\n",
       "    </tr>\n",
       "    <tr>\n",
       "      <th>3190903</th>\n",
       "      <td>2017</td>\n",
       "      <td>133</td>\n",
       "      <td>POM</td>\n",
       "      <td>1314</td>\n",
       "      <td>3</td>\n",
       "    </tr>\n",
       "    <tr>\n",
       "      <th>3190837</th>\n",
       "      <td>2017</td>\n",
       "      <td>133</td>\n",
       "      <td>POM</td>\n",
       "      <td>1246</td>\n",
       "      <td>4</td>\n",
       "    </tr>\n",
       "    <tr>\n",
       "      <th>3191037</th>\n",
       "      <td>2017</td>\n",
       "      <td>133</td>\n",
       "      <td>POM</td>\n",
       "      <td>1452</td>\n",
       "      <td>5</td>\n",
       "    </tr>\n",
       "  </tbody>\n",
       "</table>\n",
       "</div>"
      ],
      "text/plain": [
       "         Season  RankingDayNum SystemName  TeamID  OrdinalRank\n",
       "3190803    2017            133        POM    1211            1\n",
       "3191024    2017            133        POM    1437            2\n",
       "3190903    2017            133        POM    1314            3\n",
       "3190837    2017            133        POM    1246            4\n",
       "3191037    2017            133        POM    1452            5"
      ]
     },
     "execution_count": 110,
     "metadata": {},
     "output_type": "execute_result"
    }
   ],
   "source": [
    "\"\"\" Create a table of average of all end of year ratings \"\"\"\n",
    "\n",
    "#Drop duplicates from each rating system keep only max rating day\n",
    "ratings = massey.sort_values('RankingDayNum', ascending = False).drop_duplicates(['Season','SystemName','TeamID'])\n",
    "\n",
    "#testing - example of how to query on it \n",
    "ratings[(ratings['Season'] == 2017) & (ratings['SystemName'] == 'POM')].sort_values('OrdinalRank').head(5)"
   ]
  },
  {
   "cell_type": "code",
   "execution_count": 111,
   "metadata": {},
   "outputs": [
    {
     "data": {
      "text/html": [
       "<div>\n",
       "<table border=\"1\" class=\"dataframe\">\n",
       "  <thead>\n",
       "    <tr style=\"text-align: right;\">\n",
       "      <th></th>\n",
       "      <th>Season</th>\n",
       "      <th>TeamID</th>\n",
       "      <th>OrdinalRank</th>\n",
       "    </tr>\n",
       "  </thead>\n",
       "  <tbody>\n",
       "    <tr>\n",
       "      <th>0</th>\n",
       "      <td>2003</td>\n",
       "      <td>1102</td>\n",
       "      <td>154.058824</td>\n",
       "    </tr>\n",
       "    <tr>\n",
       "      <th>1</th>\n",
       "      <td>2003</td>\n",
       "      <td>1103</td>\n",
       "      <td>168.705882</td>\n",
       "    </tr>\n",
       "  </tbody>\n",
       "</table>\n",
       "</div>"
      ],
      "text/plain": [
       "   Season  TeamID  OrdinalRank\n",
       "0    2003    1102   154.058824\n",
       "1    2003    1103   168.705882"
      ]
     },
     "execution_count": 111,
     "metadata": {},
     "output_type": "execute_result"
    }
   ],
   "source": [
    "#Get the mean rating for each season team combo across all rating systems\n",
    "ratings2 = ratings.groupby(['Season', 'TeamID'], as_index = False)['OrdinalRank'].mean()\n",
    "\n",
    "ratings2.head(2)"
   ]
  },
  {
   "cell_type": "code",
   "execution_count": 112,
   "metadata": {},
   "outputs": [
    {
     "data": {
      "text/html": [
       "<div>\n",
       "<table border=\"1\" class=\"dataframe\">\n",
       "  <thead>\n",
       "    <tr style=\"text-align: right;\">\n",
       "      <th></th>\n",
       "      <th>Season</th>\n",
       "      <th>TeamID</th>\n",
       "      <th>OrdinalRank</th>\n",
       "      <th>TeamName</th>\n",
       "      <th>FirstD1Season</th>\n",
       "      <th>LastD1Season</th>\n",
       "    </tr>\n",
       "  </thead>\n",
       "  <tbody>\n",
       "    <tr>\n",
       "      <th>0</th>\n",
       "      <td>2003</td>\n",
       "      <td>1102</td>\n",
       "      <td>154.058824</td>\n",
       "      <td>Air Force</td>\n",
       "      <td>1985</td>\n",
       "      <td>2018</td>\n",
       "    </tr>\n",
       "    <tr>\n",
       "      <th>1</th>\n",
       "      <td>2004</td>\n",
       "      <td>1102</td>\n",
       "      <td>46.513514</td>\n",
       "      <td>Air Force</td>\n",
       "      <td>1985</td>\n",
       "      <td>2018</td>\n",
       "    </tr>\n",
       "  </tbody>\n",
       "</table>\n",
       "</div>"
      ],
      "text/plain": [
       "   Season  TeamID  OrdinalRank   TeamName  FirstD1Season  LastD1Season\n",
       "0    2003    1102   154.058824  Air Force           1985          2018\n",
       "1    2004    1102    46.513514  Air Force           1985          2018"
      ]
     },
     "execution_count": 112,
     "metadata": {},
     "output_type": "execute_result"
    }
   ],
   "source": [
    "#Merge with the team name table to get the team name \n",
    "ratings3 = ratings2.merge(teams, on = 'TeamID')\n",
    "ratings3.head(2)"
   ]
  },
  {
   "cell_type": "code",
   "execution_count": 113,
   "metadata": {},
   "outputs": [
    {
     "data": {
      "text/html": [
       "<div>\n",
       "<table border=\"1\" class=\"dataframe\">\n",
       "  <thead>\n",
       "    <tr style=\"text-align: right;\">\n",
       "      <th></th>\n",
       "      <th>Season</th>\n",
       "      <th>TeamID</th>\n",
       "      <th>OrdinalRank</th>\n",
       "      <th>TeamName</th>\n",
       "      <th>FirstD1Season</th>\n",
       "      <th>LastD1Season</th>\n",
       "    </tr>\n",
       "  </thead>\n",
       "  <tbody>\n",
       "    <tr>\n",
       "      <th>4511</th>\n",
       "      <td>2017</td>\n",
       "      <td>1438</td>\n",
       "      <td>15.736842</td>\n",
       "      <td>Virginia</td>\n",
       "      <td>1985</td>\n",
       "      <td>2018</td>\n",
       "    </tr>\n",
       "    <tr>\n",
       "      <th>4510</th>\n",
       "      <td>2016</td>\n",
       "      <td>1438</td>\n",
       "      <td>4.720588</td>\n",
       "      <td>Virginia</td>\n",
       "      <td>1985</td>\n",
       "      <td>2018</td>\n",
       "    </tr>\n",
       "    <tr>\n",
       "      <th>4509</th>\n",
       "      <td>2015</td>\n",
       "      <td>1438</td>\n",
       "      <td>5.123077</td>\n",
       "      <td>Virginia</td>\n",
       "      <td>1985</td>\n",
       "      <td>2018</td>\n",
       "    </tr>\n",
       "  </tbody>\n",
       "</table>\n",
       "</div>"
      ],
      "text/plain": [
       "      Season  TeamID  OrdinalRank  TeamName  FirstD1Season  LastD1Season\n",
       "4511    2017    1438    15.736842  Virginia           1985          2018\n",
       "4510    2016    1438     4.720588  Virginia           1985          2018\n",
       "4509    2015    1438     5.123077  Virginia           1985          2018"
      ]
     },
     "execution_count": 113,
     "metadata": {},
     "output_type": "execute_result"
    }
   ],
   "source": [
    "#Merge with the team name table to get the team name \n",
    "\n",
    "#testing - examples of how to query it\n",
    "ratings3[ratings3['TeamName'] == 'Virginia'].sort_values('Season', ascending = False).head(3)\n"
   ]
  },
  {
   "cell_type": "code",
   "execution_count": 114,
   "metadata": {},
   "outputs": [
    {
     "data": {
      "text/plain": [
       "array([2003, 2004, 2005, 2006, 2007, 2008, 2009, 2010, 2011, 2012, 2013,\n",
       "       2014, 2015, 2016, 2017])"
      ]
     },
     "execution_count": 114,
     "metadata": {},
     "output_type": "execute_result"
    }
   ],
   "source": [
    "ratings3.Season.unique()\n",
    "#only have ratings from 2003 - 2017"
   ]
  },
  {
   "cell_type": "code",
   "execution_count": 115,
   "metadata": {},
   "outputs": [
    {
     "data": {
      "text/html": [
       "<div>\n",
       "<table border=\"1\" class=\"dataframe\">\n",
       "  <thead>\n",
       "    <tr style=\"text-align: right;\">\n",
       "      <th></th>\n",
       "      <th>Season</th>\n",
       "      <th>DayNum</th>\n",
       "      <th>WTeamID</th>\n",
       "      <th>WScore</th>\n",
       "      <th>LTeamID</th>\n",
       "      <th>LScore</th>\n",
       "      <th>WLoc</th>\n",
       "      <th>NumOT</th>\n",
       "      <th>Diff</th>\n",
       "      <th>True_Outcome</th>\n",
       "    </tr>\n",
       "  </thead>\n",
       "  <tbody>\n",
       "    <tr>\n",
       "      <th>0</th>\n",
       "      <td>1985</td>\n",
       "      <td>20</td>\n",
       "      <td>1228</td>\n",
       "      <td>81</td>\n",
       "      <td>1328</td>\n",
       "      <td>64</td>\n",
       "      <td>N</td>\n",
       "      <td>0</td>\n",
       "      <td>17</td>\n",
       "      <td>Y</td>\n",
       "    </tr>\n",
       "    <tr>\n",
       "      <th>1</th>\n",
       "      <td>1985</td>\n",
       "      <td>25</td>\n",
       "      <td>1106</td>\n",
       "      <td>77</td>\n",
       "      <td>1354</td>\n",
       "      <td>70</td>\n",
       "      <td>H</td>\n",
       "      <td>0</td>\n",
       "      <td>7</td>\n",
       "      <td>Y</td>\n",
       "    </tr>\n",
       "  </tbody>\n",
       "</table>\n",
       "</div>"
      ],
      "text/plain": [
       "   Season  DayNum  WTeamID  WScore  LTeamID  LScore WLoc  NumOT  Diff  \\\n",
       "0    1985      20     1228      81     1328      64    N      0    17   \n",
       "1    1985      25     1106      77     1354      70    H      0     7   \n",
       "\n",
       "  True_Outcome  \n",
       "0            Y  \n",
       "1            Y  "
      ]
     },
     "execution_count": 115,
     "metadata": {},
     "output_type": "execute_result"
    }
   ],
   "source": [
    "reg_season.head(2)"
   ]
  },
  {
   "cell_type": "markdown",
   "metadata": {},
   "source": [
    "### Modify schedule table "
   ]
  },
  {
   "cell_type": "code",
   "execution_count": 116,
   "metadata": {
    "scrolled": true
   },
   "outputs": [
    {
     "data": {
      "text/html": [
       "<div>\n",
       "<table border=\"1\" class=\"dataframe\">\n",
       "  <thead>\n",
       "    <tr style=\"text-align: right;\">\n",
       "      <th></th>\n",
       "      <th>Season</th>\n",
       "      <th>DayNum</th>\n",
       "      <th>WTeamID</th>\n",
       "      <th>WScore</th>\n",
       "      <th>LTeamID</th>\n",
       "      <th>LScore</th>\n",
       "      <th>WLoc</th>\n",
       "      <th>NumOT</th>\n",
       "      <th>Diff</th>\n",
       "      <th>True_Outcome</th>\n",
       "      <th>WTeamRank</th>\n",
       "      <th>WTeamName</th>\n",
       "      <th>LTeamRank</th>\n",
       "      <th>LTeamName</th>\n",
       "    </tr>\n",
       "  </thead>\n",
       "  <tbody>\n",
       "    <tr>\n",
       "      <th>73516</th>\n",
       "      <td>2017</td>\n",
       "      <td>11</td>\n",
       "      <td>1438</td>\n",
       "      <td>76</td>\n",
       "      <td>1422</td>\n",
       "      <td>51</td>\n",
       "      <td>A</td>\n",
       "      <td>0</td>\n",
       "      <td>25</td>\n",
       "      <td>Y</td>\n",
       "      <td>15.736842</td>\n",
       "      <td>Virginia</td>\n",
       "      <td>109.819444</td>\n",
       "      <td>UNC Greensboro</td>\n",
       "    </tr>\n",
       "    <tr>\n",
       "      <th>71572</th>\n",
       "      <td>2017</td>\n",
       "      <td>15</td>\n",
       "      <td>1438</td>\n",
       "      <td>72</td>\n",
       "      <td>1383</td>\n",
       "      <td>32</td>\n",
       "      <td>H</td>\n",
       "      <td>0</td>\n",
       "      <td>40</td>\n",
       "      <td>Y</td>\n",
       "      <td>15.736842</td>\n",
       "      <td>Virginia</td>\n",
       "      <td>345.943662</td>\n",
       "      <td>St Francis NY</td>\n",
       "    </tr>\n",
       "    <tr>\n",
       "      <th>76507</th>\n",
       "      <td>2017</td>\n",
       "      <td>20</td>\n",
       "      <td>1438</td>\n",
       "      <td>62</td>\n",
       "      <td>1463</td>\n",
       "      <td>38</td>\n",
       "      <td>H</td>\n",
       "      <td>0</td>\n",
       "      <td>24</td>\n",
       "      <td>Y</td>\n",
       "      <td>15.736842</td>\n",
       "      <td>Virginia</td>\n",
       "      <td>137.652778</td>\n",
       "      <td>Yale</td>\n",
       "    </tr>\n",
       "  </tbody>\n",
       "</table>\n",
       "</div>"
      ],
      "text/plain": [
       "       Season  DayNum  WTeamID  WScore  LTeamID  LScore WLoc  NumOT  Diff  \\\n",
       "73516    2017      11     1438      76     1422      51    A      0    25   \n",
       "71572    2017      15     1438      72     1383      32    H      0    40   \n",
       "76507    2017      20     1438      62     1463      38    H      0    24   \n",
       "\n",
       "      True_Outcome  WTeamRank WTeamName   LTeamRank       LTeamName  \n",
       "73516            Y  15.736842  Virginia  109.819444  UNC Greensboro  \n",
       "71572            Y  15.736842  Virginia  345.943662   St Francis NY  \n",
       "76507            Y  15.736842  Virginia  137.652778            Yale  "
      ]
     },
     "execution_count": 116,
     "metadata": {},
     "output_type": "execute_result"
    }
   ],
   "source": [
    "\n",
    "#Add winning team rank, merging on team ID and Season\n",
    "schedule_ratings = reg_season[reg_season['Season']>2002] \\\n",
    "                .merge(ratings3[['Season','TeamID','OrdinalRank','TeamName']], \\\n",
    "                left_on = ['WTeamID','Season'], right_on = ['TeamID','Season'])\n",
    "\n",
    "schedule_ratings.rename(columns = {'OrdinalRank':'WTeamRank', 'TeamName':'WTeamName'}, inplace = True)\n",
    "\n",
    "#Add losing team rank, merging on team ID and Season\n",
    "schedule_ratings2 = schedule_ratings.merge(ratings3[['Season','TeamID','OrdinalRank','TeamName']], \\\n",
    "                left_on = ['LTeamID','Season'], right_on = ['TeamID','Season'])\n",
    "\n",
    "schedule_ratings2.rename(columns = {'OrdinalRank':'LTeamRank', 'TeamName':'LTeamName'}, inplace = True)\n",
    "\n",
    "#Drop duplicate column\n",
    "schedule_ratings2.drop(['TeamID_x','TeamID_y'], 1, inplace = True)\n",
    "\n",
    "#Example - all UVA wins from 2017 where the differential is greater than 5\n",
    "schedule_ratings2[(schedule_ratings2['Season'] == 2017) & (schedule_ratings2['WTeamName'] == 'Virginia') \\\n",
    "    & (schedule_ratings2['True_Outcome'] == 'Y')] \\\n",
    "    .sort_values('DayNum').head(3)\n"
   ]
  },
  {
   "cell_type": "markdown",
   "metadata": {},
   "source": [
    "# Basic Naive Bayes "
   ]
  },
  {
   "cell_type": "code",
   "execution_count": 117,
   "metadata": {},
   "outputs": [
    {
     "data": {
      "text/html": [
       "<div>\n",
       "<table border=\"1\" class=\"dataframe\">\n",
       "  <thead>\n",
       "    <tr style=\"text-align: right;\">\n",
       "      <th></th>\n",
       "      <th>Season</th>\n",
       "      <th>Seed</th>\n",
       "      <th>TeamID</th>\n",
       "    </tr>\n",
       "  </thead>\n",
       "  <tbody>\n",
       "    <tr>\n",
       "      <th>0</th>\n",
       "      <td>1985</td>\n",
       "      <td>W01</td>\n",
       "      <td>1207</td>\n",
       "    </tr>\n",
       "    <tr>\n",
       "      <th>1</th>\n",
       "      <td>1985</td>\n",
       "      <td>W02</td>\n",
       "      <td>1210</td>\n",
       "    </tr>\n",
       "  </tbody>\n",
       "</table>\n",
       "</div>"
      ],
      "text/plain": [
       "   Season Seed  TeamID\n",
       "0    1985  W01    1207\n",
       "1    1985  W02    1210"
      ]
     },
     "execution_count": 117,
     "metadata": {},
     "output_type": "execute_result"
    }
   ],
   "source": [
    "\"\"\" Lets use only the both team's seed and the avg. rating to predict winner using Naive Bayes \"\"\"\n",
    "tourney_seeds.head(2)"
   ]
  },
  {
   "cell_type": "code",
   "execution_count": 118,
   "metadata": {},
   "outputs": [
    {
     "data": {
      "text/html": [
       "<div>\n",
       "<table border=\"1\" class=\"dataframe\">\n",
       "  <thead>\n",
       "    <tr style=\"text-align: right;\">\n",
       "      <th></th>\n",
       "      <th>Season</th>\n",
       "      <th>DayNum</th>\n",
       "      <th>WTeamID</th>\n",
       "      <th>WScore</th>\n",
       "      <th>LTeamID</th>\n",
       "      <th>LScore</th>\n",
       "      <th>WLoc</th>\n",
       "      <th>NumOT</th>\n",
       "    </tr>\n",
       "  </thead>\n",
       "  <tbody>\n",
       "    <tr>\n",
       "      <th>0</th>\n",
       "      <td>1985</td>\n",
       "      <td>136</td>\n",
       "      <td>1116</td>\n",
       "      <td>63</td>\n",
       "      <td>1234</td>\n",
       "      <td>54</td>\n",
       "      <td>N</td>\n",
       "      <td>0</td>\n",
       "    </tr>\n",
       "    <tr>\n",
       "      <th>1</th>\n",
       "      <td>1985</td>\n",
       "      <td>136</td>\n",
       "      <td>1120</td>\n",
       "      <td>59</td>\n",
       "      <td>1345</td>\n",
       "      <td>58</td>\n",
       "      <td>N</td>\n",
       "      <td>0</td>\n",
       "    </tr>\n",
       "  </tbody>\n",
       "</table>\n",
       "</div>"
      ],
      "text/plain": [
       "   Season  DayNum  WTeamID  WScore  LTeamID  LScore WLoc  NumOT\n",
       "0    1985     136     1116      63     1234      54    N      0\n",
       "1    1985     136     1120      59     1345      58    N      0"
      ]
     },
     "execution_count": 118,
     "metadata": {},
     "output_type": "execute_result"
    }
   ],
   "source": [
    "tourney_results.head(2)"
   ]
  },
  {
   "cell_type": "code",
   "execution_count": 119,
   "metadata": {},
   "outputs": [
    {
     "data": {
      "text/html": [
       "<div>\n",
       "<table border=\"1\" class=\"dataframe\">\n",
       "  <thead>\n",
       "    <tr style=\"text-align: right;\">\n",
       "      <th></th>\n",
       "      <th>Season</th>\n",
       "      <th>WTeamID</th>\n",
       "      <th>LTeamID</th>\n",
       "      <th>WTeamName</th>\n",
       "      <th>LTeamName</th>\n",
       "      <th>WSeed</th>\n",
       "      <th>LSeed</th>\n",
       "      <th>WRank</th>\n",
       "      <th>LRank</th>\n",
       "    </tr>\n",
       "  </thead>\n",
       "  <tbody>\n",
       "    <tr>\n",
       "      <th>0</th>\n",
       "      <td>2003</td>\n",
       "      <td>1421</td>\n",
       "      <td>1411</td>\n",
       "      <td>UNC Asheville</td>\n",
       "      <td>TX Southern</td>\n",
       "      <td>X16b</td>\n",
       "      <td>X16a</td>\n",
       "      <td>242.470588</td>\n",
       "      <td>238.500000</td>\n",
       "    </tr>\n",
       "    <tr>\n",
       "      <th>1</th>\n",
       "      <td>2003</td>\n",
       "      <td>1112</td>\n",
       "      <td>1436</td>\n",
       "      <td>Arizona</td>\n",
       "      <td>Vermont</td>\n",
       "      <td>Z01</td>\n",
       "      <td>Z16</td>\n",
       "      <td>2.611111</td>\n",
       "      <td>153.176471</td>\n",
       "    </tr>\n",
       "    <tr>\n",
       "      <th>2</th>\n",
       "      <td>2003</td>\n",
       "      <td>1112</td>\n",
       "      <td>1211</td>\n",
       "      <td>Arizona</td>\n",
       "      <td>Gonzaga</td>\n",
       "      <td>Z01</td>\n",
       "      <td>Z09</td>\n",
       "      <td>2.611111</td>\n",
       "      <td>42.617647</td>\n",
       "    </tr>\n",
       "    <tr>\n",
       "      <th>3</th>\n",
       "      <td>2003</td>\n",
       "      <td>1112</td>\n",
       "      <td>1323</td>\n",
       "      <td>Arizona</td>\n",
       "      <td>Notre Dame</td>\n",
       "      <td>Z01</td>\n",
       "      <td>Z05</td>\n",
       "      <td>2.611111</td>\n",
       "      <td>21.611111</td>\n",
       "    </tr>\n",
       "    <tr>\n",
       "      <th>4</th>\n",
       "      <td>2003</td>\n",
       "      <td>1113</td>\n",
       "      <td>1272</td>\n",
       "      <td>Arizona St</td>\n",
       "      <td>Memphis</td>\n",
       "      <td>Z10</td>\n",
       "      <td>Z07</td>\n",
       "      <td>35.764706</td>\n",
       "      <td>23.555556</td>\n",
       "    </tr>\n",
       "  </tbody>\n",
       "</table>\n",
       "</div>"
      ],
      "text/plain": [
       "   Season  WTeamID  LTeamID      WTeamName    LTeamName WSeed LSeed  \\\n",
       "0    2003     1421     1411  UNC Asheville  TX Southern  X16b  X16a   \n",
       "1    2003     1112     1436        Arizona      Vermont   Z01   Z16   \n",
       "2    2003     1112     1211        Arizona      Gonzaga   Z01   Z09   \n",
       "3    2003     1112     1323        Arizona   Notre Dame   Z01   Z05   \n",
       "4    2003     1113     1272     Arizona St      Memphis   Z10   Z07   \n",
       "\n",
       "        WRank       LRank  \n",
       "0  242.470588  238.500000  \n",
       "1    2.611111  153.176471  \n",
       "2    2.611111   42.617647  \n",
       "3    2.611111   21.611111  \n",
       "4   35.764706   23.555556  "
      ]
     },
     "execution_count": 119,
     "metadata": {},
     "output_type": "execute_result"
    }
   ],
   "source": [
    "#Step 1: Pull in the features (seeds and ratings)\n",
    "tourney_results1 = tourney_results.merge(tourney_seeds, left_on = ['WTeamID','Season'] \\\n",
    "                                         , right_on = ['TeamID','Season'] )\n",
    "\n",
    "tourney_results2 = tourney_results1.merge(tourney_seeds, left_on = ['LTeamID','Season'] \\\n",
    "                                         , right_on = ['TeamID','Season'] )\n",
    "\n",
    "tourney_results3 = tourney_results2.merge(ratings3, left_on = ['WTeamID','Season'] \\\n",
    "                                         , right_on = ['TeamID','Season'] )\n",
    "\n",
    "tourney_results4 = tourney_results3.merge(ratings3, left_on = ['LTeamID','Season'] \\\n",
    "                                         , right_on = ['TeamID','Season'] )\n",
    "\n",
    "tourney_results5 = tourney_results4[['Season','WTeamID', 'LTeamID', 'TeamName_x', 'TeamName_y', \\\n",
    "                                    'Seed_x', 'Seed_y','OrdinalRank_x','OrdinalRank_y']] \\\n",
    "    .rename(columns = {'Seed_x':'WSeed','Seed_y': 'LSeed','TeamName_x' : 'WTeamName', \\\n",
    "                          'TeamName_y' : 'LTeamName', 'OrdinalRank_x' : 'WRank','OrdinalRank_y' : 'LRank'})\n",
    "\n",
    "tourney_results5.head()"
   ]
  },
  {
   "cell_type": "code",
   "execution_count": 120,
   "metadata": {},
   "outputs": [
    {
     "name": "stdout",
     "output_type": "stream",
     "text": [
      "981\n",
      "trimming dataframe to even length so we can split\n",
      "980\n"
     ]
    }
   ],
   "source": [
    "#selecting specific columns of tourney results\n",
    "tourney_results6 = tourney_results5[['Season', 'WTeamID', 'LTeamID', 'WTeamName', 'LTeamName', \\\n",
    "                                    'WSeed', 'LSeed','WRank', 'LRank']]\n",
    "\n",
    "#randomizing dataset\n",
    "tourney_results6 = tourney_results6.sample(frac=1).reset_index(drop=True)\n",
    "\n",
    "#splitting dataframe into two equal halves, so we can add multiple classifications for W/L\n",
    "if (len(tourney_results6) % 2 > 0):\n",
    "    print(len(tourney_results6))\n",
    "    tourney_results6 = tourney_results6[:-1]\n",
    "    print('trimming dataframe to even length so we can split')\n",
    "    print(len(tourney_results6))\n",
    "    \n",
    "tourney_results6 = np.split(tourney_results6, 2)"
   ]
  },
  {
   "cell_type": "code",
   "execution_count": 123,
   "metadata": {},
   "outputs": [],
   "source": [
    "#first half of new df\n",
    "#0 is winners\n",
    "tourney_results6[0]['Winner'] = 1\n",
    "#renaming columns\n",
    "tourney_results6[0].rename(columns = \n",
    "                       {\n",
    "                            'LRank': 'Team2Rank',\n",
    "                           'LSeed': 'Team2Seed',\n",
    "                           'LTeamID': 'Team2ID',\n",
    "                           'LTeamName': 'Team2Name',\n",
    "                           'WRank': 'Team1Rank',\n",
    "                           'WSeed': 'Team1Seed',\n",
    "                           'WTeamID': 'Team1ID',\n",
    "                           'WTeamName': 'Team1Name',\n",
    "                       }, inplace = True)\n",
    "\n",
    "\n",
    "#second half of new df\n",
    "#0 is losers\n",
    "tourney_results6[1]['Winner'] = 2\n",
    "#renaming columns\n",
    "tourney_results6[1].rename(columns = \n",
    "                       {\n",
    "                            'LRank': 'Team1Rank',\n",
    "                           'LSeed': 'Team1Seed',\n",
    "                           'LTeamID': 'Team1ID',\n",
    "                           'LTeamName': 'Team1Name',\n",
    "                           'WRank': 'Team2Rank',\n",
    "                           'WSeed': 'Team2Seed',\n",
    "                           'WTeamID': 'Team2ID',\n",
    "                           'WTeamName': 'Team2Name',\n",
    "                       }, inplace = True)"
   ]
  },
  {
   "cell_type": "code",
   "execution_count": 151,
   "metadata": {},
   "outputs": [],
   "source": [
    "#unioning two dataframe together\n",
    "tourney_results7 = pd.concat([tourney_results6[0], tourney_results6[1]])"
   ]
  },
  {
   "cell_type": "code",
   "execution_count": 152,
   "metadata": {},
   "outputs": [
    {
     "data": {
      "text/html": [
       "<div>\n",
       "<table border=\"1\" class=\"dataframe\">\n",
       "  <thead>\n",
       "    <tr style=\"text-align: right;\">\n",
       "      <th></th>\n",
       "      <th>Season</th>\n",
       "      <th>Team1ID</th>\n",
       "      <th>Team1Name</th>\n",
       "      <th>Team1Rank</th>\n",
       "      <th>Team1Seed</th>\n",
       "      <th>Team2ID</th>\n",
       "      <th>Team2Name</th>\n",
       "      <th>Team2Rank</th>\n",
       "      <th>Team2Seed</th>\n",
       "      <th>Winner</th>\n",
       "    </tr>\n",
       "  </thead>\n",
       "  <tbody>\n",
       "    <tr>\n",
       "      <th>0</th>\n",
       "      <td>2009</td>\n",
       "      <td>1345</td>\n",
       "      <td>Purdue</td>\n",
       "      <td>17.490196</td>\n",
       "      <td>Z05</td>\n",
       "      <td>1320</td>\n",
       "      <td>Northern Iowa</td>\n",
       "      <td>69.553191</td>\n",
       "      <td>Z12</td>\n",
       "      <td>1</td>\n",
       "    </tr>\n",
       "    <tr>\n",
       "      <th>1</th>\n",
       "      <td>2015</td>\n",
       "      <td>1326</td>\n",
       "      <td>Ohio St</td>\n",
       "      <td>23.461538</td>\n",
       "      <td>Z10</td>\n",
       "      <td>1433</td>\n",
       "      <td>VA Commonwealth</td>\n",
       "      <td>28.646154</td>\n",
       "      <td>Z07</td>\n",
       "      <td>1</td>\n",
       "    </tr>\n",
       "  </tbody>\n",
       "</table>\n",
       "</div>"
      ],
      "text/plain": [
       "   Season  Team1ID Team1Name  Team1Rank Team1Seed  Team2ID        Team2Name  \\\n",
       "0    2009     1345    Purdue  17.490196       Z05     1320    Northern Iowa   \n",
       "1    2015     1326   Ohio St  23.461538       Z10     1433  VA Commonwealth   \n",
       "\n",
       "   Team2Rank Team2Seed  Winner  \n",
       "0  69.553191       Z12       1  \n",
       "1  28.646154       Z07       1  "
      ]
     },
     "execution_count": 152,
     "metadata": {},
     "output_type": "execute_result"
    }
   ],
   "source": [
    "tourney_results7.head(2)"
   ]
  },
  {
   "cell_type": "code",
   "execution_count": 176,
   "metadata": {},
   "outputs": [],
   "source": [
    "#Format seeds and rank\n",
    "\n",
    "def removeletters(x):\n",
    "    return re.sub('[^0-9]','', x)\n",
    "\n",
    "tourney_results7['Team1Seed'] = tourney_results7['Team1Seed'].apply(lambda x: removeletters(x)).apply(int)\n",
    "tourney_results7['Team2Seed'] = tourney_results7['Team2Seed'].apply(lambda x: removeletters(x)).apply(int)\n"
   ]
  },
  {
   "cell_type": "code",
   "execution_count": 177,
   "metadata": {},
   "outputs": [
    {
     "data": {
      "text/plain": [
       "1    129\n",
       "2    104\n",
       "3     90\n",
       "Name: Team2Seed, dtype: int64"
      ]
     },
     "execution_count": 177,
     "metadata": {},
     "output_type": "execute_result"
    }
   ],
   "source": [
    "#testing removal\n",
    "tourney_results7.Team2Seed.value_counts().head(3)"
   ]
  },
  {
   "cell_type": "code",
   "execution_count": 180,
   "metadata": {},
   "outputs": [
    {
     "data": {
      "text/html": [
       "<div>\n",
       "<table border=\"1\" class=\"dataframe\">\n",
       "  <thead>\n",
       "    <tr style=\"text-align: right;\">\n",
       "      <th></th>\n",
       "      <th>Season</th>\n",
       "      <th>Team1ID</th>\n",
       "      <th>Team1Name</th>\n",
       "      <th>Team1Rank</th>\n",
       "      <th>Team1Seed</th>\n",
       "      <th>Team2ID</th>\n",
       "      <th>Team2Name</th>\n",
       "      <th>Team2Rank</th>\n",
       "      <th>Team2Seed</th>\n",
       "      <th>Winner</th>\n",
       "    </tr>\n",
       "  </thead>\n",
       "  <tbody>\n",
       "    <tr>\n",
       "      <th>0</th>\n",
       "      <td>2009</td>\n",
       "      <td>1345</td>\n",
       "      <td>Purdue</td>\n",
       "      <td>-0.488565</td>\n",
       "      <td>-0.435683</td>\n",
       "      <td>1320</td>\n",
       "      <td>Northern Iowa</td>\n",
       "      <td>0.650119</td>\n",
       "      <td>1.093827</td>\n",
       "      <td>1</td>\n",
       "    </tr>\n",
       "    <tr>\n",
       "      <th>1</th>\n",
       "      <td>2015</td>\n",
       "      <td>1326</td>\n",
       "      <td>Ohio St</td>\n",
       "      <td>-0.361729</td>\n",
       "      <td>0.626958</td>\n",
       "      <td>1433</td>\n",
       "      <td>VA Commonwealth</td>\n",
       "      <td>-0.223001</td>\n",
       "      <td>0.027422</td>\n",
       "      <td>1</td>\n",
       "    </tr>\n",
       "    <tr>\n",
       "      <th>2</th>\n",
       "      <td>2010</td>\n",
       "      <td>1210</td>\n",
       "      <td>Georgia Tech</td>\n",
       "      <td>-0.091470</td>\n",
       "      <td>0.626958</td>\n",
       "      <td>1329</td>\n",
       "      <td>Oklahoma St</td>\n",
       "      <td>-0.043860</td>\n",
       "      <td>0.027422</td>\n",
       "      <td>1</td>\n",
       "    </tr>\n",
       "    <tr>\n",
       "      <th>3</th>\n",
       "      <td>2009</td>\n",
       "      <td>1173</td>\n",
       "      <td>Dayton</td>\n",
       "      <td>0.322188</td>\n",
       "      <td>0.839486</td>\n",
       "      <td>1452</td>\n",
       "      <td>West Virginia</td>\n",
       "      <td>-0.448559</td>\n",
       "      <td>-0.185859</td>\n",
       "      <td>1</td>\n",
       "    </tr>\n",
       "    <tr>\n",
       "      <th>4</th>\n",
       "      <td>2016</td>\n",
       "      <td>1292</td>\n",
       "      <td>MTSU</td>\n",
       "      <td>1.512582</td>\n",
       "      <td>1.689598</td>\n",
       "      <td>1277</td>\n",
       "      <td>Michigan St</td>\n",
       "      <td>-0.754699</td>\n",
       "      <td>-1.038983</td>\n",
       "      <td>1</td>\n",
       "    </tr>\n",
       "  </tbody>\n",
       "</table>\n",
       "</div>"
      ],
      "text/plain": [
       "   Season  Team1ID     Team1Name  Team1Rank  Team1Seed  Team2ID  \\\n",
       "0    2009     1345        Purdue  -0.488565  -0.435683     1320   \n",
       "1    2015     1326       Ohio St  -0.361729   0.626958     1433   \n",
       "2    2010     1210  Georgia Tech  -0.091470   0.626958     1329   \n",
       "3    2009     1173        Dayton   0.322188   0.839486     1452   \n",
       "4    2016     1292          MTSU   1.512582   1.689598     1277   \n",
       "\n",
       "         Team2Name  Team2Rank  Team2Seed  Winner  \n",
       "0    Northern Iowa   0.650119   1.093827       1  \n",
       "1  VA Commonwealth  -0.223001   0.027422       1  \n",
       "2      Oklahoma St  -0.043860   0.027422       1  \n",
       "3    West Virginia  -0.448559  -0.185859       1  \n",
       "4      Michigan St  -0.754699  -1.038983       1  "
      ]
     },
     "execution_count": 180,
     "metadata": {},
     "output_type": "execute_result"
    }
   ],
   "source": [
    "features = ['Team1Rank', 'Team1Seed','Team2Rank','Team2Seed']\n",
    "\n",
    "scaled_features = {}\n",
    "for each in features:\n",
    "    mean, std = tourney_results7[each].mean(), tourney_results7[each].std()\n",
    "    scaled_features[each] = [mean, std]\n",
    "    tourney_results7.loc[:, each] = (tourney_results7[each] - mean)/std\n",
    "\n",
    "\n",
    "tourney_results7.head()"
   ]
  },
  {
   "cell_type": "code",
   "execution_count": 187,
   "metadata": {},
   "outputs": [],
   "source": [
    "tourney_results8 = tourney_results7[['Team1Rank','Team2Rank','Team1Seed','Team2Seed','Winner']]"
   ]
  },
  {
   "cell_type": "code",
   "execution_count": 195,
   "metadata": {},
   "outputs": [
    {
     "data": {
      "text/plain": [
       "array([1., 2., 2., 1., 2., 1., 1., 2., 1., 1., 2., 2., 2., 2., 1., 1., 1.,\n",
       "       2., 1., 1., 2., 1., 1., 2., 1., 1., 1., 2., 2., 2., 2., 1., 2., 2.,\n",
       "       1., 1., 2., 2., 1., 2., 2., 1., 1., 2., 2., 2., 2., 2., 2., 1., 2.,\n",
       "       2., 1., 2., 2., 2., 1., 1., 1., 1., 1., 2., 2., 1., 2., 2., 2., 1.,\n",
       "       1., 1., 1., 2., 1., 2., 2., 1., 1., 2., 1., 1., 2., 1., 1., 1., 2.,\n",
       "       1., 2., 1., 2., 2., 2., 1., 1., 1., 1., 1., 2., 1., 2., 2., 1., 1.,\n",
       "       1., 2., 2., 2., 1., 1., 2., 2., 1., 2., 2., 2., 1., 2., 1., 2., 1.,\n",
       "       2., 2., 1., 1., 1., 1., 2., 2., 2., 1., 2., 1., 1., 1., 2., 2., 2.,\n",
       "       1., 1., 2., 1., 1., 2., 1., 2., 1., 1., 1., 2., 1., 2., 1., 1., 2.,\n",
       "       2., 2., 1., 2., 1., 2., 2., 2., 1., 2., 1., 1., 2., 2., 1., 2., 2.,\n",
       "       2., 2., 2., 2., 2., 1., 1., 2., 2., 1., 1., 2., 2., 2., 1., 1., 1.,\n",
       "       2., 1., 2., 1., 1., 1., 1., 1., 1.])"
      ]
     },
     "execution_count": 195,
     "metadata": {},
     "output_type": "execute_result"
    }
   ],
   "source": [
    "features = tourney_results8.values[:,:(tourney_results8.shape[1] -2)] #features sans target var\n",
    "target = tourney_results8.values[:,(tourney_results8.shape[1] -1)] #ensure that target var is last col\n",
    "features_train, features_test, target_train, target_test = train_test_split(features, \\\n",
    "                                                target, test_size = 0.2, random_state = 69)\n",
    "target_test"
   ]
  },
  {
   "cell_type": "code",
   "execution_count": 196,
   "metadata": {},
   "outputs": [
    {
     "data": {
      "text/plain": [
       "0.6785714285714286"
      ]
     },
     "execution_count": 196,
     "metadata": {},
     "output_type": "execute_result"
    }
   ],
   "source": [
    "clf = GaussianNB()\n",
    "clf.fit(features_train, target_train)\n",
    "target_pred = clf.predict(features_test)\n",
    "\n",
    "accuracy_score(target_test, target_pred, normalize = True)\n"
   ]
  },
  {
   "cell_type": "code",
   "execution_count": 197,
   "metadata": {},
   "outputs": [],
   "source": [
    "# Import confusion matrix functionality\n",
    "from sklearn.metrics import confusion_matrix as sk_confusion_matrix\n",
    "\n",
    "# Create and format a confusion matrix\n",
    "def conf_matrix(y_test, y_predict):\n",
    "\n",
    "    # Create the raw confusion matrix\n",
    "    conf = sk_confusion_matrix(y_test, y_predict)\n",
    "\n",
    "    # Format the confusion matrix nicely\n",
    "    conf = pd.DataFrame(data=conf)\n",
    "    conf.columns.name = 'Predicted label'\n",
    "    conf.index.name = 'Actual label'\n",
    "\n",
    "    # Return the confusion matrix\n",
    "    return conf"
   ]
  },
  {
   "cell_type": "code",
   "execution_count": 198,
   "metadata": {},
   "outputs": [
    {
     "data": {
      "text/html": [
       "<div>\n",
       "<table border=\"1\" class=\"dataframe\">\n",
       "  <thead>\n",
       "    <tr style=\"text-align: right;\">\n",
       "      <th>Predicted label</th>\n",
       "      <th>0</th>\n",
       "      <th>1</th>\n",
       "    </tr>\n",
       "    <tr>\n",
       "      <th>Actual label</th>\n",
       "      <th></th>\n",
       "      <th></th>\n",
       "    </tr>\n",
       "  </thead>\n",
       "  <tbody>\n",
       "    <tr>\n",
       "      <th>0</th>\n",
       "      <td>80</td>\n",
       "      <td>18</td>\n",
       "    </tr>\n",
       "    <tr>\n",
       "      <th>1</th>\n",
       "      <td>45</td>\n",
       "      <td>53</td>\n",
       "    </tr>\n",
       "  </tbody>\n",
       "</table>\n",
       "</div>"
      ],
      "text/plain": [
       "Predicted label   0   1\n",
       "Actual label           \n",
       "0                80  18\n",
       "1                45  53"
      ]
     },
     "execution_count": 198,
     "metadata": {},
     "output_type": "execute_result"
    }
   ],
   "source": [
    "conf_matrix(target_test, target_pred)"
   ]
  },
  {
   "cell_type": "code",
   "execution_count": 199,
   "metadata": {},
   "outputs": [
    {
     "name": "stdout",
     "output_type": "stream",
     "text": [
      "             precision    recall  f1-score   support\n",
      "\n",
      "        1.0       0.64      0.82      0.72        98\n",
      "        2.0       0.75      0.54      0.63        98\n",
      "\n",
      "avg / total       0.69      0.68      0.67       196\n",
      "\n"
     ]
    }
   ],
   "source": [
    "from sklearn import metrics\n",
    "print(metrics.classification_report(target_test, target_pred))"
   ]
  },
  {
   "cell_type": "raw",
   "metadata": {},
   "source": [
    "#Winning conf tournaments, wins against team ranking, wins against defense rankings, underdog status, distance"
   ]
  }
 ],
 "metadata": {
  "kernelspec": {
   "display_name": "Python [default]",
   "language": "python",
   "name": "python3"
  },
  "language_info": {
   "codemirror_mode": {
    "name": "ipython",
    "version": 3
   },
   "file_extension": ".py",
   "mimetype": "text/x-python",
   "name": "python",
   "nbconvert_exporter": "python",
   "pygments_lexer": "ipython3",
   "version": "3.5.2"
  }
 },
 "nbformat": 4,
 "nbformat_minor": 2
}
